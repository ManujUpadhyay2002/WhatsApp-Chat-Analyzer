{
 "cells": [
  {
   "cell_type": "code",
   "execution_count": null,
   "metadata": {},
   "outputs": [],
   "source": [
    "import numpy as np\n",
    "import pandas as pd\n",
    "import matplotlib.pyplot as plt\n",
    "import seaborn as sb\n",
    "import re"
   ]
  },
  {
   "cell_type": "code",
   "execution_count": null,
   "metadata": {},
   "outputs": [],
   "source": [
    "f  = open('Data/sid_chat.txt',encoding='utf8')"
   ]
  },
  {
   "cell_type": "code",
   "execution_count": null,
   "metadata": {},
   "outputs": [],
   "source": [
    "p = f.read()"
   ]
  },
  {
   "cell_type": "code",
   "execution_count": null,
   "metadata": {},
   "outputs": [],
   "source": [
    "p=p.replace('AM','').replace('PM','').replace('pm','').replace('am','')"
   ]
  },
  {
   "attachments": {},
   "cell_type": "markdown",
   "metadata": {},
   "source": [
    "6/18/21, 10:10  - Sid: 105"
   ]
  },
  {
   "cell_type": "code",
   "execution_count": null,
   "metadata": {},
   "outputs": [],
   "source": [
    "pt = '\\d{1,2}/\\d{1,2}/\\d{2,4},\\s\\d{1,2}:\\d{1,2}\\s\\s-\\s'"
   ]
  },
  {
   "cell_type": "code",
   "execution_count": null,
   "metadata": {},
   "outputs": [],
   "source": [
    "messages = re.split(pt,p)[1:]"
   ]
  },
  {
   "cell_type": "code",
   "execution_count": null,
   "metadata": {},
   "outputs": [],
   "source": [
    "dates = re.findall(pt,p)\n",
    "new_dates = []\n",
    "for i in dates:\n",
    "    if '\\u202f - ' in i:\n",
    "        i = i.replace('\\u202f - ','')\n",
    "    else:\n",
    "        i = i.replace('  - ','')\n",
    "    new_dates.append(i)"
   ]
  },
  {
   "cell_type": "code",
   "execution_count": null,
   "metadata": {},
   "outputs": [],
   "source": [
    "msg_data = pd.DataFrame({\"user_message\":messages,\"message_date\":new_dates})\n",
    "msg_data[\"message_date\"] = pd.to_datetime(msg_data[\"message_date\"],format='%m/%d/%Y, %H:%M',infer_datetime_format=True)\n",
    "msg_data.rename(columns={'message_date':'date'},inplace=True)\n"
   ]
  },
  {
   "cell_type": "code",
   "execution_count": null,
   "metadata": {},
   "outputs": [],
   "source": [
    "msg_data"
   ]
  },
  {
   "cell_type": "code",
   "execution_count": null,
   "metadata": {},
   "outputs": [],
   "source": [
    "users = []\n",
    "messages = []\n",
    "for message in msg_data['user_message']:\n",
    "    entry = re.split('([\\w\\W]+?):\\s',message)\n",
    "    if entry[1:]:\n",
    "        users.append(entry[1])\n",
    "        messages.append(entry[2])\n",
    "    else:\n",
    "        users.append('group_notification')\n",
    "        messages.append(entry[0])\n",
    "msg_data['user'] = users\n",
    "msg_data['message'] = messages\n",
    "msg_data.drop(columns=['user_message'],inplace=True)"
   ]
  },
  {
   "cell_type": "code",
   "execution_count": null,
   "metadata": {},
   "outputs": [],
   "source": [
    "msg_data"
   ]
  },
  {
   "cell_type": "code",
   "execution_count": null,
   "metadata": {},
   "outputs": [],
   "source": [
    "msg_data['year'] = msg_data['date'].dt.year\n",
    "msg_data['month'] = msg_data['date'].dt.month_name()\n",
    "msg_data['day'] = msg_data['date'].dt.day\n",
    "msg_data['hour'] = msg_data['date'].dt.hour\n",
    "msg_data['minute'] = msg_data['date'].dt.minute"
   ]
  },
  {
   "cell_type": "code",
   "execution_count": null,
   "metadata": {},
   "outputs": [],
   "source": [
    "msg_data = msg_data[msg_data['user']!='group_notification']\n",
    "msg_data"
   ]
  },
  {
   "cell_type": "code",
   "execution_count": null,
   "metadata": {},
   "outputs": [],
   "source": [
    "from urlextract import URLExtract\n",
    "extractor = URLExtract()\n",
    "extractor.find_urls('www.google google.com manujupadhyay850@gmail.com stackoverflow.com')"
   ]
  },
  {
   "cell_type": "code",
   "execution_count": null,
   "metadata": {},
   "outputs": [],
   "source": [
    "msg_data['message']"
   ]
  },
  {
   "cell_type": "code",
   "execution_count": null,
   "metadata": {},
   "outputs": [],
   "source": [
    "links = []\n",
    "for message in msg_data['message']:\n",
    "    links.extend(extractor.find_urls(message))\n",
    "print(len(links))"
   ]
  },
  {
   "cell_type": "code",
   "execution_count": null,
   "metadata": {},
   "outputs": [],
   "source": [
    "print(list(msg_data['user'].value_counts().head()))\n",
    "print(msg_data['user'].value_counts().head().keys())"
   ]
  },
  {
   "cell_type": "code",
   "execution_count": null,
   "metadata": {},
   "outputs": [],
   "source": [
    "plt.bar(msg_data['user'].value_counts().head().keys(),height=msg_data['user'].value_counts().head())"
   ]
  },
  {
   "cell_type": "code",
   "execution_count": null,
   "metadata": {},
   "outputs": [],
   "source": [
    "round((msg_data['user'].value_counts()/ msg_data.shape[0])*100,2).reset_index().rename(columns={'index':'name','user':'percent'})"
   ]
  },
  {
   "cell_type": "code",
   "execution_count": null,
   "metadata": {},
   "outputs": [],
   "source": [
    "a = sb.barplot(x=msg_data['user'].value_counts().head().keys(),y=msg_data['user'].value_counts().head())\n",
    "a.bar_label(a.containers[0], fmt='%.1f')\n",
    "a.set_xticklabels(labels=msg_data['user'].value_counts().head().keys(),rotation=90)\n",
    "plt.show()"
   ]
  },
  {
   "cell_type": "code",
   "execution_count": null,
   "metadata": {},
   "outputs": [],
   "source": [
    "temp = msg_data[msg_data['user']!='group_notification']\n",
    "temp = temp[temp['message']!='<Media omitted>\\n']"
   ]
  },
  {
   "cell_type": "code",
   "execution_count": null,
   "metadata": {},
   "outputs": [],
   "source": [
    "words = []\n",
    "\n",
    "for message in msg_data['message']:\n",
    "    words.extend(message.split())\n",
    "words.count('group_notification')\n",
    "a = 'group_notification'\n",
    "a.split()"
   ]
  },
  {
   "cell_type": "code",
   "execution_count": null,
   "metadata": {},
   "outputs": [],
   "source": [
    "from collections import Counter\n",
    "from wordcloud import WordCloud\n",
    "w = WordCloud()\n",
    "stopwords = list(w.stopwords) + ['omitted>','<Media','changed.','voice','Missed','end-to-end','encrypted.','calls']\n",
    "b = []\n",
    "for i in words:\n",
    "    if i not in stopwords:\n",
    "        b.append(i)\n",
    "len(b)\n",
    "pd.DataFrame(list(Counter(b).most_common(30)))"
   ]
  },
  {
   "cell_type": "code",
   "execution_count": null,
   "metadata": {},
   "outputs": [],
   "source": [
    "import emoji\n",
    "from emoji.unicode_codes import EMOJI_DATA"
   ]
  },
  {
   "cell_type": "code",
   "execution_count": null,
   "metadata": {},
   "outputs": [],
   "source": [
    "emojis=[]\n",
    "for message in msg_data['message']:\n",
    "    emojis.extend([c for c in message if c in emoji.EMOJI_DATA])"
   ]
  },
  {
   "cell_type": "code",
   "execution_count": null,
   "metadata": {},
   "outputs": [],
   "source": [
    "len(emojis)"
   ]
  },
  {
   "cell_type": "code",
   "execution_count": null,
   "metadata": {},
   "outputs": [],
   "source": [
    "num_emoji = pd.DataFrame(Counter(emojis).most_common(len(Counter(emojis))))"
   ]
  },
  {
   "cell_type": "code",
   "execution_count": null,
   "metadata": {},
   "outputs": [],
   "source": [
    "num_emoji.rename({0:\"Top Emojis\",1:\"Number of Time Emojis Used\"})"
   ]
  },
  {
   "cell_type": "code",
   "execution_count": 92,
   "metadata": {},
   "outputs": [
    {
     "name": "stderr",
     "output_type": "stream",
     "text": [
      "C:\\Users\\Basic\\AppData\\Local\\Temp\\ipykernel_6632\\3058282860.py:1: SettingWithCopyWarning: \n",
      "A value is trying to be set on a copy of a slice from a DataFrame.\n",
      "Try using .loc[row_indexer,col_indexer] = value instead\n",
      "\n",
      "See the caveats in the documentation: https://pandas.pydata.org/pandas-docs/stable/user_guide/indexing.html#returning-a-view-versus-a-copy\n",
      "  msg_data['month_num'] = msg_data['date'].dt.month\n"
     ]
    },
    {
     "data": {
      "text/html": [
       "<div>\n",
       "<style scoped>\n",
       "    .dataframe tbody tr th:only-of-type {\n",
       "        vertical-align: middle;\n",
       "    }\n",
       "\n",
       "    .dataframe tbody tr th {\n",
       "        vertical-align: top;\n",
       "    }\n",
       "\n",
       "    .dataframe thead th {\n",
       "        text-align: right;\n",
       "    }\n",
       "</style>\n",
       "<table border=\"1\" class=\"dataframe\">\n",
       "  <thead>\n",
       "    <tr style=\"text-align: right;\">\n",
       "      <th></th>\n",
       "      <th>date</th>\n",
       "      <th>user</th>\n",
       "      <th>message</th>\n",
       "      <th>year</th>\n",
       "      <th>month</th>\n",
       "      <th>day</th>\n",
       "      <th>hour</th>\n",
       "      <th>minute</th>\n",
       "      <th>month_num</th>\n",
       "    </tr>\n",
       "  </thead>\n",
       "  <tbody>\n",
       "    <tr>\n",
       "      <th>1</th>\n",
       "      <td>2021-05-18 12:24:00</td>\n",
       "      <td>Manuj Upadhyay</td>\n",
       "      <td>Hii\\n</td>\n",
       "      <td>2021</td>\n",
       "      <td>May</td>\n",
       "      <td>18</td>\n",
       "      <td>12</td>\n",
       "      <td>24</td>\n",
       "      <td>5</td>\n",
       "    </tr>\n",
       "    <tr>\n",
       "      <th>2</th>\n",
       "      <td>2021-05-18 12:43:00</td>\n",
       "      <td>Sid</td>\n",
       "      <td>Hi\\n</td>\n",
       "      <td>2021</td>\n",
       "      <td>May</td>\n",
       "      <td>18</td>\n",
       "      <td>12</td>\n",
       "      <td>43</td>\n",
       "      <td>5</td>\n",
       "    </tr>\n",
       "    <tr>\n",
       "      <th>3</th>\n",
       "      <td>2021-05-20 09:43:00</td>\n",
       "      <td>Manuj Upadhyay</td>\n",
       "      <td>Any process of pancard, bank account ? 🙄\\n</td>\n",
       "      <td>2021</td>\n",
       "      <td>May</td>\n",
       "      <td>20</td>\n",
       "      <td>9</td>\n",
       "      <td>43</td>\n",
       "      <td>5</td>\n",
       "    </tr>\n",
       "    <tr>\n",
       "      <th>4</th>\n",
       "      <td>2021-05-20 10:23:00</td>\n",
       "      <td>Sid</td>\n",
       "      <td>Yes\\n</td>\n",
       "      <td>2021</td>\n",
       "      <td>May</td>\n",
       "      <td>20</td>\n",
       "      <td>10</td>\n",
       "      <td>23</td>\n",
       "      <td>5</td>\n",
       "    </tr>\n",
       "    <tr>\n",
       "      <th>5</th>\n",
       "      <td>2021-05-20 10:23:00</td>\n",
       "      <td>Sid</td>\n",
       "      <td>I got a pan card\\n</td>\n",
       "      <td>2021</td>\n",
       "      <td>May</td>\n",
       "      <td>20</td>\n",
       "      <td>10</td>\n",
       "      <td>23</td>\n",
       "      <td>5</td>\n",
       "    </tr>\n",
       "    <tr>\n",
       "      <th>...</th>\n",
       "      <td>...</td>\n",
       "      <td>...</td>\n",
       "      <td>...</td>\n",
       "      <td>...</td>\n",
       "      <td>...</td>\n",
       "      <td>...</td>\n",
       "      <td>...</td>\n",
       "      <td>...</td>\n",
       "      <td>...</td>\n",
       "    </tr>\n",
       "    <tr>\n",
       "      <th>1258</th>\n",
       "      <td>2023-03-18 02:58:00</td>\n",
       "      <td>Manuj Upadhyay</td>\n",
       "      <td>&lt;Media omitted&gt;\\n</td>\n",
       "      <td>2023</td>\n",
       "      <td>March</td>\n",
       "      <td>18</td>\n",
       "      <td>2</td>\n",
       "      <td>58</td>\n",
       "      <td>3</td>\n",
       "    </tr>\n",
       "    <tr>\n",
       "      <th>1259</th>\n",
       "      <td>2023-03-18 02:58:00</td>\n",
       "      <td>Manuj Upadhyay</td>\n",
       "      <td>Sir ji isko Shanti se padhna\\n</td>\n",
       "      <td>2023</td>\n",
       "      <td>March</td>\n",
       "      <td>18</td>\n",
       "      <td>2</td>\n",
       "      <td>58</td>\n",
       "      <td>3</td>\n",
       "    </tr>\n",
       "    <tr>\n",
       "      <th>1260</th>\n",
       "      <td>2023-03-26 09:30:00</td>\n",
       "      <td>Manuj Upadhyay</td>\n",
       "      <td>&lt;Media omitted&gt;\\n</td>\n",
       "      <td>2023</td>\n",
       "      <td>March</td>\n",
       "      <td>26</td>\n",
       "      <td>9</td>\n",
       "      <td>30</td>\n",
       "      <td>3</td>\n",
       "    </tr>\n",
       "    <tr>\n",
       "      <th>1261</th>\n",
       "      <td>2023-04-27 07:19:00</td>\n",
       "      <td>Manuj Upadhyay</td>\n",
       "      <td>Hey\\n</td>\n",
       "      <td>2023</td>\n",
       "      <td>April</td>\n",
       "      <td>27</td>\n",
       "      <td>7</td>\n",
       "      <td>19</td>\n",
       "      <td>4</td>\n",
       "    </tr>\n",
       "    <tr>\n",
       "      <th>1262</th>\n",
       "      <td>2023-04-27 07:19:00</td>\n",
       "      <td>Manuj Upadhyay</td>\n",
       "      <td>Jyare 1500 nu setting thay tyare send karje\\n</td>\n",
       "      <td>2023</td>\n",
       "      <td>April</td>\n",
       "      <td>27</td>\n",
       "      <td>7</td>\n",
       "      <td>19</td>\n",
       "      <td>4</td>\n",
       "    </tr>\n",
       "  </tbody>\n",
       "</table>\n",
       "<p>1225 rows × 9 columns</p>\n",
       "</div>"
      ],
      "text/plain": [
       "                    date            user  \\\n",
       "1    2021-05-18 12:24:00  Manuj Upadhyay   \n",
       "2    2021-05-18 12:43:00             Sid   \n",
       "3    2021-05-20 09:43:00  Manuj Upadhyay   \n",
       "4    2021-05-20 10:23:00             Sid   \n",
       "5    2021-05-20 10:23:00             Sid   \n",
       "...                  ...             ...   \n",
       "1258 2023-03-18 02:58:00  Manuj Upadhyay   \n",
       "1259 2023-03-18 02:58:00  Manuj Upadhyay   \n",
       "1260 2023-03-26 09:30:00  Manuj Upadhyay   \n",
       "1261 2023-04-27 07:19:00  Manuj Upadhyay   \n",
       "1262 2023-04-27 07:19:00  Manuj Upadhyay   \n",
       "\n",
       "                                            message  year  month  day  hour  \\\n",
       "1                                             Hii\\n  2021    May   18    12   \n",
       "2                                              Hi\\n  2021    May   18    12   \n",
       "3        Any process of pancard, bank account ? 🙄\\n  2021    May   20     9   \n",
       "4                                             Yes\\n  2021    May   20    10   \n",
       "5                                I got a pan card\\n  2021    May   20    10   \n",
       "...                                             ...   ...    ...  ...   ...   \n",
       "1258                              <Media omitted>\\n  2023  March   18     2   \n",
       "1259                 Sir ji isko Shanti se padhna\\n  2023  March   18     2   \n",
       "1260                              <Media omitted>\\n  2023  March   26     9   \n",
       "1261                                          Hey\\n  2023  April   27     7   \n",
       "1262  Jyare 1500 nu setting thay tyare send karje\\n  2023  April   27     7   \n",
       "\n",
       "      minute  month_num  \n",
       "1         24          5  \n",
       "2         43          5  \n",
       "3         43          5  \n",
       "4         23          5  \n",
       "5         23          5  \n",
       "...      ...        ...  \n",
       "1258      58          3  \n",
       "1259      58          3  \n",
       "1260      30          3  \n",
       "1261      19          4  \n",
       "1262      19          4  \n",
       "\n",
       "[1225 rows x 9 columns]"
      ]
     },
     "execution_count": 92,
     "metadata": {},
     "output_type": "execute_result"
    }
   ],
   "source": [
    "msg_data['month_num'] = msg_data['date'].dt.month \n",
    "msg_data"
   ]
  },
  {
   "cell_type": "code",
   "execution_count": 107,
   "metadata": {},
   "outputs": [
    {
     "data": {
      "text/html": [
       "<div>\n",
       "<style scoped>\n",
       "    .dataframe tbody tr th:only-of-type {\n",
       "        vertical-align: middle;\n",
       "    }\n",
       "\n",
       "    .dataframe tbody tr th {\n",
       "        vertical-align: top;\n",
       "    }\n",
       "\n",
       "    .dataframe thead th {\n",
       "        text-align: right;\n",
       "    }\n",
       "</style>\n",
       "<table border=\"1\" class=\"dataframe\">\n",
       "  <thead>\n",
       "    <tr style=\"text-align: right;\">\n",
       "      <th></th>\n",
       "      <th>year</th>\n",
       "      <th>month_num</th>\n",
       "      <th>month</th>\n",
       "      <th>message</th>\n",
       "    </tr>\n",
       "  </thead>\n",
       "  <tbody>\n",
       "    <tr>\n",
       "      <th>0</th>\n",
       "      <td>2021</td>\n",
       "      <td>5</td>\n",
       "      <td>May</td>\n",
       "      <td>35</td>\n",
       "    </tr>\n",
       "    <tr>\n",
       "      <th>1</th>\n",
       "      <td>2021</td>\n",
       "      <td>6</td>\n",
       "      <td>June</td>\n",
       "      <td>230</td>\n",
       "    </tr>\n",
       "    <tr>\n",
       "      <th>2</th>\n",
       "      <td>2021</td>\n",
       "      <td>7</td>\n",
       "      <td>July</td>\n",
       "      <td>225</td>\n",
       "    </tr>\n",
       "    <tr>\n",
       "      <th>3</th>\n",
       "      <td>2021</td>\n",
       "      <td>8</td>\n",
       "      <td>August</td>\n",
       "      <td>82</td>\n",
       "    </tr>\n",
       "    <tr>\n",
       "      <th>4</th>\n",
       "      <td>2021</td>\n",
       "      <td>9</td>\n",
       "      <td>September</td>\n",
       "      <td>23</td>\n",
       "    </tr>\n",
       "    <tr>\n",
       "      <th>5</th>\n",
       "      <td>2021</td>\n",
       "      <td>10</td>\n",
       "      <td>October</td>\n",
       "      <td>23</td>\n",
       "    </tr>\n",
       "    <tr>\n",
       "      <th>6</th>\n",
       "      <td>2021</td>\n",
       "      <td>11</td>\n",
       "      <td>November</td>\n",
       "      <td>8</td>\n",
       "    </tr>\n",
       "    <tr>\n",
       "      <th>7</th>\n",
       "      <td>2021</td>\n",
       "      <td>12</td>\n",
       "      <td>December</td>\n",
       "      <td>113</td>\n",
       "    </tr>\n",
       "    <tr>\n",
       "      <th>8</th>\n",
       "      <td>2022</td>\n",
       "      <td>1</td>\n",
       "      <td>January</td>\n",
       "      <td>97</td>\n",
       "    </tr>\n",
       "    <tr>\n",
       "      <th>9</th>\n",
       "      <td>2022</td>\n",
       "      <td>3</td>\n",
       "      <td>March</td>\n",
       "      <td>26</td>\n",
       "    </tr>\n",
       "    <tr>\n",
       "      <th>10</th>\n",
       "      <td>2022</td>\n",
       "      <td>4</td>\n",
       "      <td>April</td>\n",
       "      <td>127</td>\n",
       "    </tr>\n",
       "    <tr>\n",
       "      <th>11</th>\n",
       "      <td>2022</td>\n",
       "      <td>5</td>\n",
       "      <td>May</td>\n",
       "      <td>25</td>\n",
       "    </tr>\n",
       "    <tr>\n",
       "      <th>12</th>\n",
       "      <td>2022</td>\n",
       "      <td>6</td>\n",
       "      <td>June</td>\n",
       "      <td>1</td>\n",
       "    </tr>\n",
       "    <tr>\n",
       "      <th>13</th>\n",
       "      <td>2022</td>\n",
       "      <td>7</td>\n",
       "      <td>July</td>\n",
       "      <td>7</td>\n",
       "    </tr>\n",
       "    <tr>\n",
       "      <th>14</th>\n",
       "      <td>2022</td>\n",
       "      <td>8</td>\n",
       "      <td>August</td>\n",
       "      <td>2</td>\n",
       "    </tr>\n",
       "    <tr>\n",
       "      <th>15</th>\n",
       "      <td>2022</td>\n",
       "      <td>9</td>\n",
       "      <td>September</td>\n",
       "      <td>77</td>\n",
       "    </tr>\n",
       "    <tr>\n",
       "      <th>16</th>\n",
       "      <td>2022</td>\n",
       "      <td>10</td>\n",
       "      <td>October</td>\n",
       "      <td>24</td>\n",
       "    </tr>\n",
       "    <tr>\n",
       "      <th>17</th>\n",
       "      <td>2022</td>\n",
       "      <td>11</td>\n",
       "      <td>November</td>\n",
       "      <td>50</td>\n",
       "    </tr>\n",
       "    <tr>\n",
       "      <th>18</th>\n",
       "      <td>2022</td>\n",
       "      <td>12</td>\n",
       "      <td>December</td>\n",
       "      <td>16</td>\n",
       "    </tr>\n",
       "    <tr>\n",
       "      <th>19</th>\n",
       "      <td>2023</td>\n",
       "      <td>1</td>\n",
       "      <td>January</td>\n",
       "      <td>28</td>\n",
       "    </tr>\n",
       "    <tr>\n",
       "      <th>20</th>\n",
       "      <td>2023</td>\n",
       "      <td>3</td>\n",
       "      <td>March</td>\n",
       "      <td>4</td>\n",
       "    </tr>\n",
       "    <tr>\n",
       "      <th>21</th>\n",
       "      <td>2023</td>\n",
       "      <td>4</td>\n",
       "      <td>April</td>\n",
       "      <td>2</td>\n",
       "    </tr>\n",
       "  </tbody>\n",
       "</table>\n",
       "</div>"
      ],
      "text/plain": [
       "    year  month_num      month  message\n",
       "0   2021          5        May       35\n",
       "1   2021          6       June      230\n",
       "2   2021          7       July      225\n",
       "3   2021          8     August       82\n",
       "4   2021          9  September       23\n",
       "5   2021         10    October       23\n",
       "6   2021         11   November        8\n",
       "7   2021         12   December      113\n",
       "8   2022          1    January       97\n",
       "9   2022          3      March       26\n",
       "10  2022          4      April      127\n",
       "11  2022          5        May       25\n",
       "12  2022          6       June        1\n",
       "13  2022          7       July        7\n",
       "14  2022          8     August        2\n",
       "15  2022          9  September       77\n",
       "16  2022         10    October       24\n",
       "17  2022         11   November       50\n",
       "18  2022         12   December       16\n",
       "19  2023          1    January       28\n",
       "20  2023          3      March        4\n",
       "21  2023          4      April        2"
      ]
     },
     "execution_count": 107,
     "metadata": {},
     "output_type": "execute_result"
    }
   ],
   "source": [
    "timeline = msg_data.groupby(['year','month_num','month']).count()['message'].reset_index()\n",
    "timeline"
   ]
  },
  {
   "cell_type": "code",
   "execution_count": 108,
   "metadata": {},
   "outputs": [],
   "source": [
    "time = []\n",
    "for i in range(timeline.shape[0]):\n",
    "    time.append(timeline['month'][i] + \"-\" + str(timeline['year'][i]))\n",
    "timeline['time'] = time"
   ]
  },
  {
   "cell_type": "code",
   "execution_count": 109,
   "metadata": {},
   "outputs": [
    {
     "data": {
      "image/png": "[encoded data removed]",
      "text/plain": [
       "<Figure size 640x480 with 1 Axes>"
      ]
     },
     "metadata": {},
     "output_type": "display_data"
    }
   ],
   "source": [
    "plt.plot(timeline['time'],timeline['message'])\n",
    "plt.xticks(rotation='vertical')\n",
    "plt.show()"
   ]
  },
  {
   "cell_type": "code",
   "execution_count": 110,
   "metadata": {},
   "outputs": [
    {
     "name": "stderr",
     "output_type": "stream",
     "text": [
      "C:\\Users\\Basic\\AppData\\Local\\Temp\\ipykernel_6632\\525521077.py:1: SettingWithCopyWarning: \n",
      "A value is trying to be set on a copy of a slice from a DataFrame.\n",
      "Try using .loc[row_indexer,col_indexer] = value instead\n",
      "\n",
      "See the caveats in the documentation: https://pandas.pydata.org/pandas-docs/stable/user_guide/indexing.html#returning-a-view-versus-a-copy\n",
      "  msg_data['only_date'] =  msg_data['date'].dt.date\n"
     ]
    }
   ],
   "source": [
    "msg_data['only_date'] =  msg_data['date'].dt.date"
   ]
  },
  {
   "cell_type": "code",
   "execution_count": 111,
   "metadata": {},
   "outputs": [
    {
     "data": {
      "text/html": [
       "<div>\n",
       "<style scoped>\n",
       "    .dataframe tbody tr th:only-of-type {\n",
       "        vertical-align: middle;\n",
       "    }\n",
       "\n",
       "    .dataframe tbody tr th {\n",
       "        vertical-align: top;\n",
       "    }\n",
       "\n",
       "    .dataframe thead th {\n",
       "        text-align: right;\n",
       "    }\n",
       "</style>\n",
       "<table border=\"1\" class=\"dataframe\">\n",
       "  <thead>\n",
       "    <tr style=\"text-align: right;\">\n",
       "      <th></th>\n",
       "      <th>date</th>\n",
       "      <th>user</th>\n",
       "      <th>message</th>\n",
       "      <th>year</th>\n",
       "      <th>month</th>\n",
       "      <th>day</th>\n",
       "      <th>hour</th>\n",
       "      <th>minute</th>\n",
       "      <th>month_num</th>\n",
       "      <th>only_date</th>\n",
       "    </tr>\n",
       "  </thead>\n",
       "  <tbody>\n",
       "    <tr>\n",
       "      <th>1</th>\n",
       "      <td>2021-05-18 12:24:00</td>\n",
       "      <td>Manuj Upadhyay</td>\n",
       "      <td>Hii\\n</td>\n",
       "      <td>2021</td>\n",
       "      <td>May</td>\n",
       "      <td>18</td>\n",
       "      <td>12</td>\n",
       "      <td>24</td>\n",
       "      <td>5</td>\n",
       "      <td>2021-05-18</td>\n",
       "    </tr>\n",
       "    <tr>\n",
       "      <th>2</th>\n",
       "      <td>2021-05-18 12:43:00</td>\n",
       "      <td>Sid</td>\n",
       "      <td>Hi\\n</td>\n",
       "      <td>2021</td>\n",
       "      <td>May</td>\n",
       "      <td>18</td>\n",
       "      <td>12</td>\n",
       "      <td>43</td>\n",
       "      <td>5</td>\n",
       "      <td>2021-05-18</td>\n",
       "    </tr>\n",
       "    <tr>\n",
       "      <th>3</th>\n",
       "      <td>2021-05-20 09:43:00</td>\n",
       "      <td>Manuj Upadhyay</td>\n",
       "      <td>Any process of pancard, bank account ? 🙄\\n</td>\n",
       "      <td>2021</td>\n",
       "      <td>May</td>\n",
       "      <td>20</td>\n",
       "      <td>9</td>\n",
       "      <td>43</td>\n",
       "      <td>5</td>\n",
       "      <td>2021-05-20</td>\n",
       "    </tr>\n",
       "    <tr>\n",
       "      <th>4</th>\n",
       "      <td>2021-05-20 10:23:00</td>\n",
       "      <td>Sid</td>\n",
       "      <td>Yes\\n</td>\n",
       "      <td>2021</td>\n",
       "      <td>May</td>\n",
       "      <td>20</td>\n",
       "      <td>10</td>\n",
       "      <td>23</td>\n",
       "      <td>5</td>\n",
       "      <td>2021-05-20</td>\n",
       "    </tr>\n",
       "    <tr>\n",
       "      <th>5</th>\n",
       "      <td>2021-05-20 10:23:00</td>\n",
       "      <td>Sid</td>\n",
       "      <td>I got a pan card\\n</td>\n",
       "      <td>2021</td>\n",
       "      <td>May</td>\n",
       "      <td>20</td>\n",
       "      <td>10</td>\n",
       "      <td>23</td>\n",
       "      <td>5</td>\n",
       "      <td>2021-05-20</td>\n",
       "    </tr>\n",
       "    <tr>\n",
       "      <th>...</th>\n",
       "      <td>...</td>\n",
       "      <td>...</td>\n",
       "      <td>...</td>\n",
       "      <td>...</td>\n",
       "      <td>...</td>\n",
       "      <td>...</td>\n",
       "      <td>...</td>\n",
       "      <td>...</td>\n",
       "      <td>...</td>\n",
       "      <td>...</td>\n",
       "    </tr>\n",
       "    <tr>\n",
       "      <th>1258</th>\n",
       "      <td>2023-03-18 02:58:00</td>\n",
       "      <td>Manuj Upadhyay</td>\n",
       "      <td>&lt;Media omitted&gt;\\n</td>\n",
       "      <td>2023</td>\n",
       "      <td>March</td>\n",
       "      <td>18</td>\n",
       "      <td>2</td>\n",
       "      <td>58</td>\n",
       "      <td>3</td>\n",
       "      <td>2023-03-18</td>\n",
       "    </tr>\n",
       "    <tr>\n",
       "      <th>1259</th>\n",
       "      <td>2023-03-18 02:58:00</td>\n",
       "      <td>Manuj Upadhyay</td>\n",
       "      <td>Sir ji isko Shanti se padhna\\n</td>\n",
       "      <td>2023</td>\n",
       "      <td>March</td>\n",
       "      <td>18</td>\n",
       "      <td>2</td>\n",
       "      <td>58</td>\n",
       "      <td>3</td>\n",
       "      <td>2023-03-18</td>\n",
       "    </tr>\n",
       "    <tr>\n",
       "      <th>1260</th>\n",
       "      <td>2023-03-26 09:30:00</td>\n",
       "      <td>Manuj Upadhyay</td>\n",
       "      <td>&lt;Media omitted&gt;\\n</td>\n",
       "      <td>2023</td>\n",
       "      <td>March</td>\n",
       "      <td>26</td>\n",
       "      <td>9</td>\n",
       "      <td>30</td>\n",
       "      <td>3</td>\n",
       "      <td>2023-03-26</td>\n",
       "    </tr>\n",
       "    <tr>\n",
       "      <th>1261</th>\n",
       "      <td>2023-04-27 07:19:00</td>\n",
       "      <td>Manuj Upadhyay</td>\n",
       "      <td>Hey\\n</td>\n",
       "      <td>2023</td>\n",
       "      <td>April</td>\n",
       "      <td>27</td>\n",
       "      <td>7</td>\n",
       "      <td>19</td>\n",
       "      <td>4</td>\n",
       "      <td>2023-04-27</td>\n",
       "    </tr>\n",
       "    <tr>\n",
       "      <th>1262</th>\n",
       "      <td>2023-04-27 07:19:00</td>\n",
       "      <td>Manuj Upadhyay</td>\n",
       "      <td>Jyare 1500 nu setting thay tyare send karje\\n</td>\n",
       "      <td>2023</td>\n",
       "      <td>April</td>\n",
       "      <td>27</td>\n",
       "      <td>7</td>\n",
       "      <td>19</td>\n",
       "      <td>4</td>\n",
       "      <td>2023-04-27</td>\n",
       "    </tr>\n",
       "  </tbody>\n",
       "</table>\n",
       "<p>1225 rows × 10 columns</p>\n",
       "</div>"
      ],
      "text/plain": [
       "                    date            user  \\\n",
       "1    2021-05-18 12:24:00  Manuj Upadhyay   \n",
       "2    2021-05-18 12:43:00             Sid   \n",
       "3    2021-05-20 09:43:00  Manuj Upadhyay   \n",
       "4    2021-05-20 10:23:00             Sid   \n",
       "5    2021-05-20 10:23:00             Sid   \n",
       "...                  ...             ...   \n",
       "1258 2023-03-18 02:58:00  Manuj Upadhyay   \n",
       "1259 2023-03-18 02:58:00  Manuj Upadhyay   \n",
       "1260 2023-03-26 09:30:00  Manuj Upadhyay   \n",
       "1261 2023-04-27 07:19:00  Manuj Upadhyay   \n",
       "1262 2023-04-27 07:19:00  Manuj Upadhyay   \n",
       "\n",
       "                                            message  year  month  day  hour  \\\n",
       "1                                             Hii\\n  2021    May   18    12   \n",
       "2                                              Hi\\n  2021    May   18    12   \n",
       "3        Any process of pancard, bank account ? 🙄\\n  2021    May   20     9   \n",
       "4                                             Yes\\n  2021    May   20    10   \n",
       "5                                I got a pan card\\n  2021    May   20    10   \n",
       "...                                             ...   ...    ...  ...   ...   \n",
       "1258                              <Media omitted>\\n  2023  March   18     2   \n",
       "1259                 Sir ji isko Shanti se padhna\\n  2023  March   18     2   \n",
       "1260                              <Media omitted>\\n  2023  March   26     9   \n",
       "1261                                          Hey\\n  2023  April   27     7   \n",
       "1262  Jyare 1500 nu setting thay tyare send karje\\n  2023  April   27     7   \n",
       "\n",
       "      minute  month_num   only_date  \n",
       "1         24          5  2021-05-18  \n",
       "2         43          5  2021-05-18  \n",
       "3         43          5  2021-05-20  \n",
       "4         23          5  2021-05-20  \n",
       "5         23          5  2021-05-20  \n",
       "...      ...        ...         ...  \n",
       "1258      58          3  2023-03-18  \n",
       "1259      58          3  2023-03-18  \n",
       "1260      30          3  2023-03-26  \n",
       "1261      19          4  2023-04-27  \n",
       "1262      19          4  2023-04-27  \n",
       "\n",
       "[1225 rows x 10 columns]"
      ]
     },
     "execution_count": 111,
     "metadata": {},
     "output_type": "execute_result"
    }
   ],
   "source": [
    "msg_data"
   ]
  },
  {
   "cell_type": "code",
   "execution_count": 114,
   "metadata": {},
   "outputs": [],
   "source": [
    "daily_timeline = msg_data.groupby('only_date').count()['message'].reset_index()"
   ]
  },
  {
   "cell_type": "code",
   "execution_count": 116,
   "metadata": {},
   "outputs": [
    {
     "data": {
      "image/png": "[encoded data removed]",
      "text/plain": [
       "<Figure size 1800x1000 with 1 Axes>"
      ]
     },
     "metadata": {},
     "output_type": "display_data"
    }
   ],
   "source": [
    "plt.figure(figsize=(18,10))\n",
    "plt.plot(daily_timeline['only_date'],daily_timeline['message'])\n",
    "plt.xticks(rotation='vertical')\n",
    "plt.show()"
   ]
  },
  {
   "cell_type": "code",
   "execution_count": 123,
   "metadata": {},
   "outputs": [
    {
     "data": {
      "text/plain": [
       "1        Tuesday\n",
       "2        Tuesday\n",
       "3       Thursday\n",
       "4       Thursday\n",
       "5       Thursday\n",
       "          ...   \n",
       "1258    Saturday\n",
       "1259    Saturday\n",
       "1260      Sunday\n",
       "1261    Thursday\n",
       "1262    Thursday\n",
       "Name: date, Length: 1225, dtype: object"
      ]
     },
     "execution_count": 123,
     "metadata": {},
     "output_type": "execute_result"
    }
   ],
   "source": [
    "msg_data['date'].dt.day_name()\n"
   ]
  },
  {
   "cell_type": "code",
   "execution_count": 120,
   "metadata": {},
   "outputs": [],
   "source": [
    "mbd = msg_data['day_name'].value_counts().reset_index()"
   ]
  },
  {
   "cell_type": "code",
   "execution_count": 121,
   "metadata": {},
   "outputs": [
    {
     "data": {
      "text/html": [
       "<div>\n",
       "<style scoped>\n",
       "    .dataframe tbody tr th:only-of-type {\n",
       "        vertical-align: middle;\n",
       "    }\n",
       "\n",
       "    .dataframe tbody tr th {\n",
       "        vertical-align: top;\n",
       "    }\n",
       "\n",
       "    .dataframe thead th {\n",
       "        text-align: right;\n",
       "    }\n",
       "</style>\n",
       "<table border=\"1\" class=\"dataframe\">\n",
       "  <thead>\n",
       "    <tr style=\"text-align: right;\">\n",
       "      <th></th>\n",
       "      <th>index</th>\n",
       "      <th>day_name</th>\n",
       "    </tr>\n",
       "  </thead>\n",
       "  <tbody>\n",
       "    <tr>\n",
       "      <th>0</th>\n",
       "      <td>&lt;bound method PandasDelegate._add_delegate_acc...</td>\n",
       "      <td>1225</td>\n",
       "    </tr>\n",
       "  </tbody>\n",
       "</table>\n",
       "</div>"
      ],
      "text/plain": [
       "                                               index  day_name\n",
       "0  <bound method PandasDelegate._add_delegate_acc...      1225"
      ]
     },
     "execution_count": 121,
     "metadata": {},
     "output_type": "execute_result"
    }
   ],
   "source": [
    "mbd"
   ]
  }
 ],
 "metadata": {
  "kernelspec": {
   "display_name": "Python 3",
   "language": "python",
   "name": "python3"
  },
  "language_info": {
   "codemirror_mode": {
    "name": "ipython",
    "version": 3
   },
   "file_extension": ".py",
   "mimetype": "text/x-python",
   "name": "python",
   "nbconvert_exporter": "python",
   "pygments_lexer": "ipython3",
   "version": "3.11.0"
  },
  "orig_nbformat": 4
 },
 "nbformat": 4,
 "nbformat_minor": 2
}
